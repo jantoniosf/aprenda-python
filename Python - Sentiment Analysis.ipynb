{
 "cells": [
  {
   "cell_type": "markdown",
   "metadata": {},
   "source": [
    "![logos](https://images-americanas.b2w.io/produtos/01/00/item/126812/5/126812590_1GG.jpg)"
   ]
  },
  {
   "cell_type": "code",
   "execution_count": 8,
   "metadata": {},
   "outputs": [],
   "source": [
    "# Livro BOM nos impacta de uma forma incrível, li e curti muito e indico a todos!\n",
    "# Vamos tratar da mineração de dados por texto agora, claro se você estiver esperando algo incrível?\n",
    "# ESqueça, falarei/mostrarei o básico com muitas dicas e de uma forma fácil de entender / codar\n",
    "# Vamos lá"
   ]
  },
  {
   "cell_type": "code",
   "execution_count": 9,
   "metadata": {},
   "outputs": [],
   "source": [
    "import nltk\n",
    "import nltk.sentiment.sentiment_analyzer "
   ]
  },
  {
   "cell_type": "code",
   "execution_count": 10,
   "metadata": {},
   "outputs": [],
   "source": [
    "# No codigo abaixo usamos 3 trechos (1 palavra, palavras e termos negativos)\n",
    "# Imagine uma oportunidade incrível de criar critérios para analisar os mais diversos cenários"
   ]
  },
  {
   "cell_type": "code",
   "execution_count": 11,
   "metadata": {},
   "outputs": [
    {
     "name": "stdout",
     "output_type": "stream",
     "text": [
      " ** Sentiment with one word **\n",
      "\n",
      "{'contains(good)': True, 'contains(progress)': True, 'contains(luck)': False}\n",
      "\n",
      "*** Sentiment with bigrams ***\n",
      "\n",
      "{'contains(Regular - fit)': False, 'contains(fit - fine)': False}\n",
      "\n",
      "**Sentiment with Negative words**\n",
      "\n",
      "['Lack', 'of', 'good', 'health', 'can', 'not', 'bring_NEG', 'success_NEG', 'to_NEG', 'students_NEG']\n"
     ]
    }
   ],
   "source": [
    "# Analisando palavras isoladas, sozinhas\n",
    "def OneWord(): \n",
    "    positive_words = ['good', 'progress', 'luck']\n",
    "    text = 'Hard Work brings progress and good luck.'.split()                 \n",
    "    analysis = nltk.sentiment.util.extract_unigram_feats(text, positive_words) \n",
    "    print(' ** Sentiment with one word **\\n')\n",
    "    print(analysis) \n",
    "\n",
    "# Analisando pares de palavras\n",
    "def WithBigrams(): \n",
    "    word_sets = [('Regular', 'fit'), ('fit', 'fine')] \n",
    "    text = 'Regular excercise makes you fit and fine'.split() \n",
    "    analysis = nltk.sentiment.util.extract_bigram_feats(text, word_sets) \n",
    "    print('\\n*** Sentiment with bigrams ***\\n') \n",
    "    print (analysis)\n",
    "\n",
    "# Analisando palavras negativas \n",
    "def NegativeWord():\n",
    "    text = 'Lack of good health can not bring success to students'.split() \n",
    "    analysis = nltk.sentiment.util.mark_negation(text) \n",
    "    print('\\n**Sentiment with Negative words**\\n')\n",
    "    print(analysis) \n",
    "    \n",
    "OneWord()\n",
    "WithBigrams() \n",
    "NegativeWord() "
   ]
  }
 ],
 "metadata": {
  "kernelspec": {
   "display_name": "Python 3",
   "language": "python",
   "name": "python3"
  },
  "language_info": {
   "codemirror_mode": {
    "name": "ipython",
    "version": 3
   },
   "file_extension": ".py",
   "mimetype": "text/x-python",
   "name": "python",
   "nbconvert_exporter": "python",
   "pygments_lexer": "ipython3",
   "version": "3.7.2"
  }
 },
 "nbformat": 4,
 "nbformat_minor": 2
}
