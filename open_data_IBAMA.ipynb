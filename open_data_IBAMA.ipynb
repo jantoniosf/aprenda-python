{
  "nbformat": 4,
  "nbformat_minor": 0,
  "metadata": {
    "colab": {
      "name": "open_data_IBAMA.ipynb",
      "version": "0.3.2",
      "provenance": [],
      "collapsed_sections": [],
      "include_colab_link": true
    },
    "kernelspec": {
      "name": "python3",
      "display_name": "Python 3"
    }
  },
  "cells": [
    {
      "cell_type": "markdown",
      "metadata": {
        "id": "view-in-github",
        "colab_type": "text"
      },
      "source": [
        "<a href=\"https://colab.research.google.com/github/triatebr/aprenda-python/blob/master/open_data_IBAMA.ipynb\" target=\"_parent\"><img src=\"https://colab.research.google.com/assets/colab-badge.svg\" alt=\"Open In Colab\"/></a>"
      ]
    },
    {
      "metadata": {
        "id": "ykc8PB1n0WtO",
        "colab_type": "text"
      },
      "cell_type": "markdown",
      "source": [
        "![logos](https://mundogeo.com/wp-content/uploads/2014/01/Plataforma-Dados-Abertos.jpg)\n",
        "\n",
        "\n",
        "\n",
        "\n",
        "\n",
        "\n"
      ]
    },
    {
      "metadata": {
        "id": "rAPG9C4D1FF_",
        "colab_type": "text"
      },
      "cell_type": "markdown",
      "source": [
        "Hoje 13.03 teremos contato com os conceitos/prática de **Dados Abertos** e realizaremos uma análise exploratória usando comandos do **Python** via [Colab.research](https://colab.research.google.com/notebooks/welcome.ipynb)"
      ]
    },
    {
      "metadata": {
        "id": "NaBSUmoP5LBw",
        "colab_type": "text"
      },
      "cell_type": "markdown",
      "source": [
        "Para tanto usaremos conceitos de **Dataframe!?!?!** <p>\n",
        "  Peraí, data? O que?"
      ]
    },
    {
      "metadata": {
        "id": "mEYRKTPL3r68",
        "colab_type": "text"
      },
      "cell_type": "markdown",
      "source": [
        "**Estruturas de dados no Pandas** <p>\n",
        "**Séries :**<p>\n",
        "Uma matriz uni-dimensional capaz de conter qualquer tipo de dado<p>\n",
        "s = pd.Series([3, -5, 7, 4], index=[‘a’, ‘b’, ‘c’, ‘d’])<p>\n",
        "  \n",
        "![alt text](https://www.vooo.pro/insights/wp-content/uploads/2018/01/pandas1.png)\n",
        "  \n",
        "**Frame de dados (Data frame) :**<p>\n",
        "Uma estrutura de dados bi-dimensional com colunas de diferentes tipos<p>\n",
        "\n",
        "data = {‘País’: [‘Portugal’, ‘Peru’, ‘Chile’], ‘Capital’: [‘Lisboa’, ‘Lima’, ‘Santiago’], ‘População’: [751000, 1120000, 695000]}<p>\n",
        "df = pd.DataFrame(data, columns=[‘País’, ‘Capital’, ‘População’])<p>\n",
        "  \n",
        "![alt text](https://www.vooo.pro/insights/wp-content/uploads/2018/01/pandas2.png)\n",
        "  \n",
        "[fonte](https://www.vooo.pro/insights/guia-de-acesso-rapido-ao-pandas/)"
      ]
    },
    {
      "metadata": {
        "id": "vvQ2J0lANod_",
        "colab_type": "text"
      },
      "cell_type": "markdown",
      "source": [
        "**IBAMA - Instituto do Meio Ambiente e dos Recursos Naturais Renováveis**<p>\n",
        "![logos](http://www.memora.com.br/wp-content/uploads/2017/03/ibama-banner.png)<p>\n",
        "\n",
        "> [Fonte: dados.gov.br](http://dados.gov.br/dataset/autos-de-infracao)\n",
        "\n",
        "\n"
      ]
    },
    {
      "metadata": {
        "id": "f-vVnbWYd__9",
        "colab_type": "text"
      },
      "cell_type": "markdown",
      "source": [
        "**Dicionário de Dados**<p>\n",
        "![logos](https://d1nhio0ox7pgb.cloudfront.net/_img/i_collection_png/256x256/plain/dictionary.png)<p>\n",
        "**SEQ_AUTO_INFRACAO** - Chave primária (número sequencial) que identifica o auto de infração<p>\n",
        "**NUM_AUTO_INFRACAO** - Número impresso no formulário que compõe a identificação do documento juntamente com a série do auto<p>\n",
        "**SER_AUTO_INFRACAO** - Caractere impresso no formulário que compõe a identificação do documento juntamente com o número do auto<p>\n",
        "**TIPO_AUTO** - Tipo de sanção proposta no auto: multa simples; multa diária; advertência (sem sanção pecuniária)<p>\n",
        "**TIPO_MULTA** - Especifica se o dispositivo legal da multa aplicada prevê um valor fixo por unidade (multa fechada) ou se há uma faixa de valores aplicável dependendo da capacidade econômica do infrator e gravidade da infração (multa aberta)<p>\n",
        "**VAL_AUTO_INFRACAO** - Valor de multa indicado inicialmente pelo agente ambiental<p>\n",
        "**PATRIMONIO_APURACAO** - Forma de apuração do patrimônio da pessoa física ou porte de pessoa jurídica autuada (capacidade aparente ou patrimônio comprovado)<p>\n",
        "  \n",
        "> [Link:](http://dados.gov.br/dataset/autos-de-infracao/resource/651feed4-cacb-4316-9353-49f571875fb6)\n"
      ]
    },
    {
      "metadata": {
        "id": "4GAfzoQty_3D",
        "colab_type": "code",
        "colab": {}
      },
      "cell_type": "code",
      "source": [
        "# instalar libraries para uso no Python3\n",
        "pip install pandas\n",
        "pip install seaborn\n",
        "pip install numpy"
      ],
      "execution_count": 0,
      "outputs": []
    },
    {
      "metadata": {
        "id": "2cBSBh7QyfSN",
        "colab_type": "code",
        "colab": {}
      },
      "cell_type": "code",
      "source": [
        "# importar library pandas\n",
        "import pandas as pd\n",
        "import re\n",
        "import seaborn as sns\n",
        "import numpy as np\n",
        "url = 'http://dadosabertos.ibama.gov.br/dados/SIFISC/auto_infracao/auto_infracao/auto_infracao.csv'"
      ],
      "execution_count": 0,
      "outputs": []
    },
    {
      "metadata": {
        "id": "A9bEWZKCysGl",
        "colab_type": "code",
        "colab": {
          "base_uri": "https://localhost:8080/",
          "height": 71
        },
        "outputId": "036d5f9e-495e-439b-df8a-ecc8e93fc91a"
      },
      "cell_type": "code",
      "source": [
        "# leitura do csv usando o link da web\n",
        "# faz-se necessário o 'encoding ='latin1'' devido ao fato da fonte escolhida possuir caracteres especiais\n",
        "# usamos o 'delimiter=\";\"' pela razão de usarem o ';' para separar as colunas\n",
        "df=pd.read_csv(url,encoding ='latin1', delimiter=\";\")"
      ],
      "execution_count": 21,
      "outputs": [
        {
          "output_type": "stream",
          "text": [
            "/usr/local/lib/python3.6/dist-packages/IPython/core/interactiveshell.py:2718: DtypeWarning: Columns (6,7,16,22,24,26,27,30,33,34,35,37) have mixed types. Specify dtype option on import or set low_memory=False.\n",
            "  interactivity=interactivity, compiler=compiler, result=result)\n"
          ],
          "name": "stderr"
        }
      ]
    },
    {
      "metadata": {
        "id": "HY_PyJ52yuF6",
        "colab_type": "code",
        "outputId": "a4404d6e-fb6e-41ef-ecae-623bb020de01",
        "colab": {
          "base_uri": "https://localhost:8080/",
          "height": 474
        }
      },
      "cell_type": "code",
      "source": [
        "# visualização das 5 primeiras linhas do dataframe, mas caso prefira mais linhas, insira o numero entre os '()'\n",
        "# sempre que nos refereciarmos ao Dataframe usaremos o 'df'\n",
        "df.head()"
      ],
      "execution_count": 22,
      "outputs": [
        {
          "output_type": "execute_result",
          "data": {
            "text/html": [
              "<div>\n",
              "<style scoped>\n",
              "    .dataframe tbody tr th:only-of-type {\n",
              "        vertical-align: middle;\n",
              "    }\n",
              "\n",
              "    .dataframe tbody tr th {\n",
              "        vertical-align: top;\n",
              "    }\n",
              "\n",
              "    .dataframe thead th {\n",
              "        text-align: right;\n",
              "    }\n",
              "</style>\n",
              "<table border=\"1\" class=\"dataframe\">\n",
              "  <thead>\n",
              "    <tr style=\"text-align: right;\">\n",
              "      <th></th>\n",
              "      <th>SEQ_AUTO_INFRACAO</th>\n",
              "      <th>NUM_AUTO_INFRACAO</th>\n",
              "      <th>SER_AUTO_INFRACAO</th>\n",
              "      <th>TIPO_AUTO</th>\n",
              "      <th>TIPO_MULTA</th>\n",
              "      <th>VAL_AUTO_INFRACAO</th>\n",
              "      <th>PATRIMONIO_APURACAO</th>\n",
              "      <th>GRAVIDADE_INFRACAO</th>\n",
              "      <th>UNID_ARRECADACAO</th>\n",
              "      <th>DES_AUTO_INFRACAO</th>\n",
              "      <th>...</th>\n",
              "      <th>UNID_CONTROLE</th>\n",
              "      <th>TIPO_ACAO</th>\n",
              "      <th>OPERACAO</th>\n",
              "      <th>DENUNCIA_SISLIV</th>\n",
              "      <th>ORDEM_FISCALIZACAO</th>\n",
              "      <th>SOLICITACAO_RECURSO</th>\n",
              "      <th>OPERACAO_SOL_RECURSO</th>\n",
              "      <th>DAT_LANCAMENTO</th>\n",
              "      <th>DAT_ULT_ALTERACAO</th>\n",
              "      <th>TIPO_ULT_ALTERACAO</th>\n",
              "    </tr>\n",
              "  </thead>\n",
              "  <tbody>\n",
              "    <tr>\n",
              "      <th>0</th>\n",
              "      <td>509</td>\n",
              "      <td>541249</td>\n",
              "      <td>D</td>\n",
              "      <td>Multa simples</td>\n",
              "      <td>Fechada</td>\n",
              "      <td>1500</td>\n",
              "      <td>NaN</td>\n",
              "      <td>NaN</td>\n",
              "      <td>BCG/GEREX</td>\n",
              "      <td>EXTRAIR MINERAIS (DIAMANTE) DO LEITO DO RIO AR...</td>\n",
              "      <td>...</td>\n",
              "      <td>BCG/GEREX</td>\n",
              "      <td>Rotina</td>\n",
              "      <td>NaN</td>\n",
              "      <td>NaN</td>\n",
              "      <td>NaN</td>\n",
              "      <td>NaN</td>\n",
              "      <td>NaN</td>\n",
              "      <td>17/10/2005 18:38:02</td>\n",
              "      <td>22/04/2013 23:32:56</td>\n",
              "      <td>Preenchido</td>\n",
              "    </tr>\n",
              "    <tr>\n",
              "      <th>1</th>\n",
              "      <td>514</td>\n",
              "      <td>541254</td>\n",
              "      <td>D</td>\n",
              "      <td>Multa simples</td>\n",
              "      <td>NaN</td>\n",
              "      <td>900</td>\n",
              "      <td>NaN</td>\n",
              "      <td>NaN</td>\n",
              "      <td>BCG/GEREX</td>\n",
              "      <td>TRANSPORTAR 20 KG DE PESCADO (PINTADO E TUCUNA...</td>\n",
              "      <td>...</td>\n",
              "      <td>NaN</td>\n",
              "      <td>NaN</td>\n",
              "      <td>NaN</td>\n",
              "      <td>NaN</td>\n",
              "      <td>NaN</td>\n",
              "      <td>NaN</td>\n",
              "      <td>NaN</td>\n",
              "      <td>17/10/2005 18:38:02</td>\n",
              "      <td>22/11/2006 18:25:08</td>\n",
              "      <td>Preenchido</td>\n",
              "    </tr>\n",
              "    <tr>\n",
              "      <th>2</th>\n",
              "      <td>522</td>\n",
              "      <td>541262</td>\n",
              "      <td>D</td>\n",
              "      <td>Multa simples</td>\n",
              "      <td>NaN</td>\n",
              "      <td>20845,9</td>\n",
              "      <td>NaN</td>\n",
              "      <td>NaN</td>\n",
              "      <td>BCG/GEREX</td>\n",
              "      <td>VENDER 208,459MÂ³ DE MADEIRA LAMINADA (AMESCLA...</td>\n",
              "      <td>...</td>\n",
              "      <td>NaN</td>\n",
              "      <td>NaN</td>\n",
              "      <td>NaN</td>\n",
              "      <td>NaN</td>\n",
              "      <td>NaN</td>\n",
              "      <td>NaN</td>\n",
              "      <td>NaN</td>\n",
              "      <td>17/10/2005 18:38:02</td>\n",
              "      <td>24/11/2006 10:15:48</td>\n",
              "      <td>Preenchido</td>\n",
              "    </tr>\n",
              "    <tr>\n",
              "      <th>3</th>\n",
              "      <td>523</td>\n",
              "      <td>541263</td>\n",
              "      <td>D</td>\n",
              "      <td>Multa simples</td>\n",
              "      <td>NaN</td>\n",
              "      <td>5510</td>\n",
              "      <td>NaN</td>\n",
              "      <td>NaN</td>\n",
              "      <td>BCG/GEREX</td>\n",
              "      <td>VENDER 55,100MÂ³ DE MADEIRA EM LAMINA, COM ATP...</td>\n",
              "      <td>...</td>\n",
              "      <td>NaN</td>\n",
              "      <td>NaN</td>\n",
              "      <td>NaN</td>\n",
              "      <td>NaN</td>\n",
              "      <td>NaN</td>\n",
              "      <td>NaN</td>\n",
              "      <td>NaN</td>\n",
              "      <td>17/10/2005 18:38:02</td>\n",
              "      <td>24/11/2006 09:28:51</td>\n",
              "      <td>Preenchido</td>\n",
              "    </tr>\n",
              "    <tr>\n",
              "      <th>4</th>\n",
              "      <td>533</td>\n",
              "      <td>541273</td>\n",
              "      <td>D</td>\n",
              "      <td>Multa simples</td>\n",
              "      <td>NaN</td>\n",
              "      <td>88700</td>\n",
              "      <td>NaN</td>\n",
              "      <td>NaN</td>\n",
              "      <td>BCG/GEREX</td>\n",
              "      <td>VENDER 887,000MDC DE CARVAO VEGETAL SEM ATPF, ...</td>\n",
              "      <td>...</td>\n",
              "      <td>NaN</td>\n",
              "      <td>NaN</td>\n",
              "      <td>NaN</td>\n",
              "      <td>NaN</td>\n",
              "      <td>NaN</td>\n",
              "      <td>NaN</td>\n",
              "      <td>NaN</td>\n",
              "      <td>17/10/2005 18:38:03</td>\n",
              "      <td>28/11/2006 10:50:48</td>\n",
              "      <td>Preenchido</td>\n",
              "    </tr>\n",
              "  </tbody>\n",
              "</table>\n",
              "<p>5 rows × 41 columns</p>\n",
              "</div>"
            ],
            "text/plain": [
              "   SEQ_AUTO_INFRACAO  NUM_AUTO_INFRACAO SER_AUTO_INFRACAO      TIPO_AUTO  \\\n",
              "0                509             541249                 D  Multa simples   \n",
              "1                514             541254                 D  Multa simples   \n",
              "2                522             541262                 D  Multa simples   \n",
              "3                523             541263                 D  Multa simples   \n",
              "4                533             541273                 D  Multa simples   \n",
              "\n",
              "  TIPO_MULTA VAL_AUTO_INFRACAO PATRIMONIO_APURACAO GRAVIDADE_INFRACAO  \\\n",
              "0    Fechada              1500                 NaN                NaN   \n",
              "1        NaN               900                 NaN                NaN   \n",
              "2        NaN           20845,9                 NaN                NaN   \n",
              "3        NaN              5510                 NaN                NaN   \n",
              "4        NaN             88700                 NaN                NaN   \n",
              "\n",
              "  UNID_ARRECADACAO                                  DES_AUTO_INFRACAO  \\\n",
              "0        BCG/GEREX  EXTRAIR MINERAIS (DIAMANTE) DO LEITO DO RIO AR...   \n",
              "1        BCG/GEREX  TRANSPORTAR 20 KG DE PESCADO (PINTADO E TUCUNA...   \n",
              "2        BCG/GEREX  VENDER 208,459MÂ³ DE MADEIRA LAMINADA (AMESCLA...   \n",
              "3        BCG/GEREX  VENDER 55,100MÂ³ DE MADEIRA EM LAMINA, COM ATP...   \n",
              "4        BCG/GEREX  VENDER 887,000MDC DE CARVAO VEGETAL SEM ATPF, ...   \n",
              "\n",
              "         ...         UNID_CONTROLE TIPO_ACAO OPERACAO  DENUNCIA_SISLIV  \\\n",
              "0        ...             BCG/GEREX    Rotina      NaN              NaN   \n",
              "1        ...                   NaN       NaN      NaN              NaN   \n",
              "2        ...                   NaN       NaN      NaN              NaN   \n",
              "3        ...                   NaN       NaN      NaN              NaN   \n",
              "4        ...                   NaN       NaN      NaN              NaN   \n",
              "\n",
              "  ORDEM_FISCALIZACAO SOLICITACAO_RECURSO OPERACAO_SOL_RECURSO  \\\n",
              "0                NaN                 NaN                  NaN   \n",
              "1                NaN                 NaN                  NaN   \n",
              "2                NaN                 NaN                  NaN   \n",
              "3                NaN                 NaN                  NaN   \n",
              "4                NaN                 NaN                  NaN   \n",
              "\n",
              "        DAT_LANCAMENTO    DAT_ULT_ALTERACAO TIPO_ULT_ALTERACAO  \n",
              "0  17/10/2005 18:38:02  22/04/2013 23:32:56         Preenchido  \n",
              "1  17/10/2005 18:38:02  22/11/2006 18:25:08         Preenchido  \n",
              "2  17/10/2005 18:38:02  24/11/2006 10:15:48         Preenchido  \n",
              "3  17/10/2005 18:38:02  24/11/2006 09:28:51         Preenchido  \n",
              "4  17/10/2005 18:38:03  28/11/2006 10:50:48         Preenchido  \n",
              "\n",
              "[5 rows x 41 columns]"
            ]
          },
          "metadata": {
            "tags": []
          },
          "execution_count": 22
        }
      ]
    },
    {
      "metadata": {
        "id": "Cge_VaWRDJeQ",
        "colab_type": "code",
        "outputId": "23a125b2-013c-4f10-8759-1e9b0036eff4",
        "colab": {
          "base_uri": "https://localhost:8080/",
          "height": 731
        }
      },
      "cell_type": "code",
      "source": [
        "# após a importação e visualização, como serão as colunas e características do nosso Dataframe?\n",
        "df.dtypes"
      ],
      "execution_count": 23,
      "outputs": [
        {
          "output_type": "execute_result",
          "data": {
            "text/plain": [
              "SEQ_AUTO_INFRACAO           int64\n",
              "NUM_AUTO_INFRACAO           int64\n",
              "SER_AUTO_INFRACAO          object\n",
              "TIPO_AUTO                  object\n",
              "TIPO_MULTA                 object\n",
              "VAL_AUTO_INFRACAO          object\n",
              "PATRIMONIO_APURACAO        object\n",
              "GRAVIDADE_INFRACAO         object\n",
              "UNID_ARRECADACAO           object\n",
              "DES_AUTO_INFRACAO          object\n",
              "DAT_HORA_AUTO_INFRACAO     object\n",
              "FORMA_ENTREGA              object\n",
              "DAT_CIENCIA_AUTUACAO       object\n",
              "COD_MUNICIPIO             float64\n",
              "MUNICIPIO                  object\n",
              "UF                         object\n",
              "NUM_PROCESSO               object\n",
              "COD_INFRACAO              float64\n",
              "DES_INFRACAO               object\n",
              "TIPO_INFRACAO              object\n",
              "NOME_INFRATOR              object\n",
              "CPF_CNPJ_INFRATOR          object\n",
              "QTD_AREA                   object\n",
              "INFRACAO_AREA              object\n",
              "DES_OUTROS_TIPO_AREA       object\n",
              "CLASSIFICACAO_AREA         object\n",
              "NUM_LATITUDE_AUTO          object\n",
              "NUM_LONGITUDE_AUTO         object\n",
              "DES_LOCAL_INFRACAO         object\n",
              "NOTIFICACAO_VINCULADA      object\n",
              "ACAO_FISCALIZATORIA        object\n",
              "UNID_CONTROLE              object\n",
              "TIPO_ACAO                  object\n",
              "OPERACAO                   object\n",
              "DENUNCIA_SISLIV            object\n",
              "ORDEM_FISCALIZACAO         object\n",
              "SOLICITACAO_RECURSO       float64\n",
              "OPERACAO_SOL_RECURSO       object\n",
              "DAT_LANCAMENTO             object\n",
              "DAT_ULT_ALTERACAO          object\n",
              "TIPO_ULT_ALTERACAO         object\n",
              "dtype: object"
            ]
          },
          "metadata": {
            "tags": []
          },
          "execution_count": 23
        }
      ]
    },
    {
      "metadata": {
        "id": "NgX0YxBYAeTn",
        "colab_type": "text"
      },
      "cell_type": "markdown",
      "source": [
        ""
      ]
    },
    {
      "metadata": {
        "id": "X_nQiD9j83tk",
        "colab_type": "code",
        "outputId": "845592c8-12f9-4c3e-852e-2d0e6a74ee3a",
        "colab": {
          "base_uri": "https://localhost:8080/",
          "height": 327
        }
      },
      "cell_type": "code",
      "source": [
        "# agora se vc precisar de um subconjunto? Nada muito complicado\n",
        "# lembrando que o o conjunto no Python começa sempre no 0 (zero), nesse caso selecionamos as 3 primeiras linhas\n",
        "df[:3]"
      ],
      "execution_count": 24,
      "outputs": [
        {
          "output_type": "execute_result",
          "data": {
            "text/html": [
              "<div>\n",
              "<style scoped>\n",
              "    .dataframe tbody tr th:only-of-type {\n",
              "        vertical-align: middle;\n",
              "    }\n",
              "\n",
              "    .dataframe tbody tr th {\n",
              "        vertical-align: top;\n",
              "    }\n",
              "\n",
              "    .dataframe thead th {\n",
              "        text-align: right;\n",
              "    }\n",
              "</style>\n",
              "<table border=\"1\" class=\"dataframe\">\n",
              "  <thead>\n",
              "    <tr style=\"text-align: right;\">\n",
              "      <th></th>\n",
              "      <th>SEQ_AUTO_INFRACAO</th>\n",
              "      <th>NUM_AUTO_INFRACAO</th>\n",
              "      <th>SER_AUTO_INFRACAO</th>\n",
              "      <th>TIPO_AUTO</th>\n",
              "      <th>TIPO_MULTA</th>\n",
              "      <th>VAL_AUTO_INFRACAO</th>\n",
              "      <th>PATRIMONIO_APURACAO</th>\n",
              "      <th>GRAVIDADE_INFRACAO</th>\n",
              "      <th>UNID_ARRECADACAO</th>\n",
              "      <th>DES_AUTO_INFRACAO</th>\n",
              "      <th>...</th>\n",
              "      <th>UNID_CONTROLE</th>\n",
              "      <th>TIPO_ACAO</th>\n",
              "      <th>OPERACAO</th>\n",
              "      <th>DENUNCIA_SISLIV</th>\n",
              "      <th>ORDEM_FISCALIZACAO</th>\n",
              "      <th>SOLICITACAO_RECURSO</th>\n",
              "      <th>OPERACAO_SOL_RECURSO</th>\n",
              "      <th>DAT_LANCAMENTO</th>\n",
              "      <th>DAT_ULT_ALTERACAO</th>\n",
              "      <th>TIPO_ULT_ALTERACAO</th>\n",
              "    </tr>\n",
              "  </thead>\n",
              "  <tbody>\n",
              "    <tr>\n",
              "      <th>0</th>\n",
              "      <td>509</td>\n",
              "      <td>541249</td>\n",
              "      <td>D</td>\n",
              "      <td>Multa simples</td>\n",
              "      <td>Fechada</td>\n",
              "      <td>1500</td>\n",
              "      <td>NaN</td>\n",
              "      <td>NaN</td>\n",
              "      <td>BCG/GEREX</td>\n",
              "      <td>EXTRAIR MINERAIS (DIAMANTE) DO LEITO DO RIO AR...</td>\n",
              "      <td>...</td>\n",
              "      <td>BCG/GEREX</td>\n",
              "      <td>Rotina</td>\n",
              "      <td>NaN</td>\n",
              "      <td>NaN</td>\n",
              "      <td>NaN</td>\n",
              "      <td>NaN</td>\n",
              "      <td>NaN</td>\n",
              "      <td>17/10/2005 18:38:02</td>\n",
              "      <td>22/04/2013 23:32:56</td>\n",
              "      <td>Preenchido</td>\n",
              "    </tr>\n",
              "    <tr>\n",
              "      <th>1</th>\n",
              "      <td>514</td>\n",
              "      <td>541254</td>\n",
              "      <td>D</td>\n",
              "      <td>Multa simples</td>\n",
              "      <td>NaN</td>\n",
              "      <td>900</td>\n",
              "      <td>NaN</td>\n",
              "      <td>NaN</td>\n",
              "      <td>BCG/GEREX</td>\n",
              "      <td>TRANSPORTAR 20 KG DE PESCADO (PINTADO E TUCUNA...</td>\n",
              "      <td>...</td>\n",
              "      <td>NaN</td>\n",
              "      <td>NaN</td>\n",
              "      <td>NaN</td>\n",
              "      <td>NaN</td>\n",
              "      <td>NaN</td>\n",
              "      <td>NaN</td>\n",
              "      <td>NaN</td>\n",
              "      <td>17/10/2005 18:38:02</td>\n",
              "      <td>22/11/2006 18:25:08</td>\n",
              "      <td>Preenchido</td>\n",
              "    </tr>\n",
              "    <tr>\n",
              "      <th>2</th>\n",
              "      <td>522</td>\n",
              "      <td>541262</td>\n",
              "      <td>D</td>\n",
              "      <td>Multa simples</td>\n",
              "      <td>NaN</td>\n",
              "      <td>20845,9</td>\n",
              "      <td>NaN</td>\n",
              "      <td>NaN</td>\n",
              "      <td>BCG/GEREX</td>\n",
              "      <td>VENDER 208,459MÂ³ DE MADEIRA LAMINADA (AMESCLA...</td>\n",
              "      <td>...</td>\n",
              "      <td>NaN</td>\n",
              "      <td>NaN</td>\n",
              "      <td>NaN</td>\n",
              "      <td>NaN</td>\n",
              "      <td>NaN</td>\n",
              "      <td>NaN</td>\n",
              "      <td>NaN</td>\n",
              "      <td>17/10/2005 18:38:02</td>\n",
              "      <td>24/11/2006 10:15:48</td>\n",
              "      <td>Preenchido</td>\n",
              "    </tr>\n",
              "  </tbody>\n",
              "</table>\n",
              "<p>3 rows × 41 columns</p>\n",
              "</div>"
            ],
            "text/plain": [
              "   SEQ_AUTO_INFRACAO  NUM_AUTO_INFRACAO SER_AUTO_INFRACAO      TIPO_AUTO  \\\n",
              "0                509             541249                 D  Multa simples   \n",
              "1                514             541254                 D  Multa simples   \n",
              "2                522             541262                 D  Multa simples   \n",
              "\n",
              "  TIPO_MULTA VAL_AUTO_INFRACAO PATRIMONIO_APURACAO GRAVIDADE_INFRACAO  \\\n",
              "0    Fechada              1500                 NaN                NaN   \n",
              "1        NaN               900                 NaN                NaN   \n",
              "2        NaN           20845,9                 NaN                NaN   \n",
              "\n",
              "  UNID_ARRECADACAO                                  DES_AUTO_INFRACAO  \\\n",
              "0        BCG/GEREX  EXTRAIR MINERAIS (DIAMANTE) DO LEITO DO RIO AR...   \n",
              "1        BCG/GEREX  TRANSPORTAR 20 KG DE PESCADO (PINTADO E TUCUNA...   \n",
              "2        BCG/GEREX  VENDER 208,459MÂ³ DE MADEIRA LAMINADA (AMESCLA...   \n",
              "\n",
              "         ...         UNID_CONTROLE TIPO_ACAO OPERACAO  DENUNCIA_SISLIV  \\\n",
              "0        ...             BCG/GEREX    Rotina      NaN              NaN   \n",
              "1        ...                   NaN       NaN      NaN              NaN   \n",
              "2        ...                   NaN       NaN      NaN              NaN   \n",
              "\n",
              "  ORDEM_FISCALIZACAO SOLICITACAO_RECURSO OPERACAO_SOL_RECURSO  \\\n",
              "0                NaN                 NaN                  NaN   \n",
              "1                NaN                 NaN                  NaN   \n",
              "2                NaN                 NaN                  NaN   \n",
              "\n",
              "        DAT_LANCAMENTO    DAT_ULT_ALTERACAO TIPO_ULT_ALTERACAO  \n",
              "0  17/10/2005 18:38:02  22/04/2013 23:32:56         Preenchido  \n",
              "1  17/10/2005 18:38:02  22/11/2006 18:25:08         Preenchido  \n",
              "2  17/10/2005 18:38:02  24/11/2006 10:15:48         Preenchido  \n",
              "\n",
              "[3 rows x 41 columns]"
            ]
          },
          "metadata": {
            "tags": []
          },
          "execution_count": 24
        }
      ]
    },
    {
      "metadata": {
        "id": "-I5p4kbk9ZiZ",
        "colab_type": "code",
        "outputId": "2c09622f-03fd-4b65-e43a-ce7a9c85f12c",
        "colab": {
          "base_uri": "https://localhost:8080/",
          "height": 310
        }
      },
      "cell_type": "code",
      "source": [
        "# também é possivel, visualizar da 3ª linha até a 6ª sem maiores dificuldades\n",
        "df[3:6]"
      ],
      "execution_count": 25,
      "outputs": [
        {
          "output_type": "execute_result",
          "data": {
            "text/html": [
              "<div>\n",
              "<style scoped>\n",
              "    .dataframe tbody tr th:only-of-type {\n",
              "        vertical-align: middle;\n",
              "    }\n",
              "\n",
              "    .dataframe tbody tr th {\n",
              "        vertical-align: top;\n",
              "    }\n",
              "\n",
              "    .dataframe thead th {\n",
              "        text-align: right;\n",
              "    }\n",
              "</style>\n",
              "<table border=\"1\" class=\"dataframe\">\n",
              "  <thead>\n",
              "    <tr style=\"text-align: right;\">\n",
              "      <th></th>\n",
              "      <th>SEQ_AUTO_INFRACAO</th>\n",
              "      <th>NUM_AUTO_INFRACAO</th>\n",
              "      <th>SER_AUTO_INFRACAO</th>\n",
              "      <th>TIPO_AUTO</th>\n",
              "      <th>TIPO_MULTA</th>\n",
              "      <th>VAL_AUTO_INFRACAO</th>\n",
              "      <th>PATRIMONIO_APURACAO</th>\n",
              "      <th>GRAVIDADE_INFRACAO</th>\n",
              "      <th>UNID_ARRECADACAO</th>\n",
              "      <th>DES_AUTO_INFRACAO</th>\n",
              "      <th>...</th>\n",
              "      <th>UNID_CONTROLE</th>\n",
              "      <th>TIPO_ACAO</th>\n",
              "      <th>OPERACAO</th>\n",
              "      <th>DENUNCIA_SISLIV</th>\n",
              "      <th>ORDEM_FISCALIZACAO</th>\n",
              "      <th>SOLICITACAO_RECURSO</th>\n",
              "      <th>OPERACAO_SOL_RECURSO</th>\n",
              "      <th>DAT_LANCAMENTO</th>\n",
              "      <th>DAT_ULT_ALTERACAO</th>\n",
              "      <th>TIPO_ULT_ALTERACAO</th>\n",
              "    </tr>\n",
              "  </thead>\n",
              "  <tbody>\n",
              "    <tr>\n",
              "      <th>3</th>\n",
              "      <td>523</td>\n",
              "      <td>541263</td>\n",
              "      <td>D</td>\n",
              "      <td>Multa simples</td>\n",
              "      <td>NaN</td>\n",
              "      <td>5510</td>\n",
              "      <td>NaN</td>\n",
              "      <td>NaN</td>\n",
              "      <td>BCG/GEREX</td>\n",
              "      <td>VENDER 55,100MÂ³ DE MADEIRA EM LAMINA, COM ATP...</td>\n",
              "      <td>...</td>\n",
              "      <td>NaN</td>\n",
              "      <td>NaN</td>\n",
              "      <td>NaN</td>\n",
              "      <td>NaN</td>\n",
              "      <td>NaN</td>\n",
              "      <td>NaN</td>\n",
              "      <td>NaN</td>\n",
              "      <td>17/10/2005 18:38:02</td>\n",
              "      <td>24/11/2006 09:28:51</td>\n",
              "      <td>Preenchido</td>\n",
              "    </tr>\n",
              "    <tr>\n",
              "      <th>4</th>\n",
              "      <td>533</td>\n",
              "      <td>541273</td>\n",
              "      <td>D</td>\n",
              "      <td>Multa simples</td>\n",
              "      <td>NaN</td>\n",
              "      <td>88700</td>\n",
              "      <td>NaN</td>\n",
              "      <td>NaN</td>\n",
              "      <td>BCG/GEREX</td>\n",
              "      <td>VENDER 887,000MDC DE CARVAO VEGETAL SEM ATPF, ...</td>\n",
              "      <td>...</td>\n",
              "      <td>NaN</td>\n",
              "      <td>NaN</td>\n",
              "      <td>NaN</td>\n",
              "      <td>NaN</td>\n",
              "      <td>NaN</td>\n",
              "      <td>NaN</td>\n",
              "      <td>NaN</td>\n",
              "      <td>17/10/2005 18:38:03</td>\n",
              "      <td>28/11/2006 10:50:48</td>\n",
              "      <td>Preenchido</td>\n",
              "    </tr>\n",
              "    <tr>\n",
              "      <th>5</th>\n",
              "      <td>534</td>\n",
              "      <td>541274</td>\n",
              "      <td>D</td>\n",
              "      <td>Multa simples</td>\n",
              "      <td>NaN</td>\n",
              "      <td>3000</td>\n",
              "      <td>NaN</td>\n",
              "      <td>NaN</td>\n",
              "      <td>BCG/GEREX</td>\n",
              "      <td>TRANSPORTAR 05 TATUS (05 KG) E 01 JACARE (05 KG).</td>\n",
              "      <td>...</td>\n",
              "      <td>BCG/GEREX</td>\n",
              "      <td>NaN</td>\n",
              "      <td>NaN</td>\n",
              "      <td>NaN</td>\n",
              "      <td>NaN</td>\n",
              "      <td>NaN</td>\n",
              "      <td>NaN</td>\n",
              "      <td>17/10/2005 18:38:03</td>\n",
              "      <td>02/04/2007 09:53:24</td>\n",
              "      <td>Alterado</td>\n",
              "    </tr>\n",
              "  </tbody>\n",
              "</table>\n",
              "<p>3 rows × 41 columns</p>\n",
              "</div>"
            ],
            "text/plain": [
              "   SEQ_AUTO_INFRACAO  NUM_AUTO_INFRACAO SER_AUTO_INFRACAO      TIPO_AUTO  \\\n",
              "3                523             541263                 D  Multa simples   \n",
              "4                533             541273                 D  Multa simples   \n",
              "5                534             541274                 D  Multa simples   \n",
              "\n",
              "  TIPO_MULTA VAL_AUTO_INFRACAO PATRIMONIO_APURACAO GRAVIDADE_INFRACAO  \\\n",
              "3        NaN              5510                 NaN                NaN   \n",
              "4        NaN             88700                 NaN                NaN   \n",
              "5        NaN              3000                 NaN                NaN   \n",
              "\n",
              "  UNID_ARRECADACAO                                  DES_AUTO_INFRACAO  \\\n",
              "3        BCG/GEREX  VENDER 55,100MÂ³ DE MADEIRA EM LAMINA, COM ATP...   \n",
              "4        BCG/GEREX  VENDER 887,000MDC DE CARVAO VEGETAL SEM ATPF, ...   \n",
              "5        BCG/GEREX  TRANSPORTAR 05 TATUS (05 KG) E 01 JACARE (05 KG).   \n",
              "\n",
              "         ...         UNID_CONTROLE TIPO_ACAO OPERACAO  DENUNCIA_SISLIV  \\\n",
              "3        ...                   NaN       NaN      NaN              NaN   \n",
              "4        ...                   NaN       NaN      NaN              NaN   \n",
              "5        ...             BCG/GEREX       NaN      NaN              NaN   \n",
              "\n",
              "  ORDEM_FISCALIZACAO SOLICITACAO_RECURSO OPERACAO_SOL_RECURSO  \\\n",
              "3                NaN                 NaN                  NaN   \n",
              "4                NaN                 NaN                  NaN   \n",
              "5                NaN                 NaN                  NaN   \n",
              "\n",
              "        DAT_LANCAMENTO    DAT_ULT_ALTERACAO TIPO_ULT_ALTERACAO  \n",
              "3  17/10/2005 18:38:02  24/11/2006 09:28:51         Preenchido  \n",
              "4  17/10/2005 18:38:03  28/11/2006 10:50:48         Preenchido  \n",
              "5  17/10/2005 18:38:03  02/04/2007 09:53:24           Alterado  \n",
              "\n",
              "[3 rows x 41 columns]"
            ]
          },
          "metadata": {
            "tags": []
          },
          "execution_count": 25
        }
      ]
    },
    {
      "metadata": {
        "id": "ArfWHJk-kRr4",
        "colab_type": "text"
      },
      "cell_type": "markdown",
      "source": [
        "**VALORES AUSENTES**"
      ]
    },
    {
      "metadata": {
        "id": "QBhmVeBAkVfo",
        "colab_type": "code",
        "colab": {
          "base_uri": "https://localhost:8080/",
          "height": 731
        },
        "outputId": "6e371e12-240e-4c32-88f3-cb3c08b2c2c7"
      },
      "cell_type": "code",
      "source": [
        "# normalmente os dataframes podem conter 'dados ausentes', vamos avaliar a existẽncia dos mesmos\n",
        "# depois vamos analisar se todos são relevantes para nossa análise\n",
        "df.apply(lambda x: sum(x.isnull()),axis=0)"
      ],
      "execution_count": 49,
      "outputs": [
        {
          "output_type": "execute_result",
          "data": {
            "text/plain": [
              "SEQ_AUTO_INFRACAO              0\n",
              "NUM_AUTO_INFRACAO              0\n",
              "SER_AUTO_INFRACAO             11\n",
              "TIPO_AUTO                      1\n",
              "TIPO_MULTA                673834\n",
              "VAL_AUTO_INFRACAO          10147\n",
              "PATRIMONIO_APURACAO       746597\n",
              "GRAVIDADE_INFRACAO        742126\n",
              "UNID_ARRECADACAO          168389\n",
              "DES_AUTO_INFRACAO         176088\n",
              "DAT_HORA_AUTO_INFRACAO    161408\n",
              "FORMA_ENTREGA             641675\n",
              "DAT_CIENCIA_AUTUACAO      421422\n",
              "COD_MUNICIPIO             161667\n",
              "MUNICIPIO                 161667\n",
              "UF                        161667\n",
              "NUM_PROCESSO               12615\n",
              "COD_INFRACAO                   7\n",
              "DES_INFRACAO                   7\n",
              "TIPO_INFRACAO                  7\n",
              "NOME_INFRATOR                256\n",
              "CPF_CNPJ_INFRATOR          90430\n",
              "QTD_AREA                  717707\n",
              "INFRACAO_AREA             660690\n",
              "DES_OUTROS_TIPO_AREA      749189\n",
              "CLASSIFICACAO_AREA        647375\n",
              "NUM_LATITUDE_AUTO         566309\n",
              "NUM_LONGITUDE_AUTO        565575\n",
              "DES_LOCAL_INFRACAO        642571\n",
              "NOTIFICACAO_VINCULADA     736676\n",
              "ACAO_FISCALIZATORIA       671348\n",
              "UNID_CONTROLE              97817\n",
              "TIPO_ACAO                 625905\n",
              "OPERACAO                  717422\n",
              "DENUNCIA_SISLIV           749142\n",
              "ORDEM_FISCALIZACAO        657896\n",
              "SOLICITACAO_RECURSO       734787\n",
              "OPERACAO_SOL_RECURSO      734787\n",
              "DAT_LANCAMENTO            161796\n",
              "DAT_ULT_ALTERACAO         166177\n",
              "TIPO_ULT_ALTERACAO        166177\n",
              "dtype: int64"
            ]
          },
          "metadata": {
            "tags": []
          },
          "execution_count": 49
        }
      ]
    },
    {
      "metadata": {
        "id": "uUAv1W_qk1aO",
        "colab_type": "text"
      },
      "cell_type": "markdown",
      "source": [
        "**DELETAR COLUNAS**<p>\n",
        "Vamos eliminar algumas colunas que achamos não tão necessárias assim<p>\n",
        "Colunas escolhidas:<p>\n",
        "  - NOTIFICACAO_VINCULADA<p>\n",
        "  - ACAO_FISCALIZATORIA<p>\n",
        "  - DES_OUTROS_TIPO_AREA<p>\n",
        "  - OPERACAO_SOL_RECURSO<p>\n",
        "  "
      ]
    },
    {
      "metadata": {
        "id": "c5ZyznWSlh2f",
        "colab_type": "code",
        "colab": {}
      },
      "cell_type": "code",
      "source": [
        "#sintaxe simples e fácil de ser processada, sempre declarando as COLUNAS dentro de '' (aspas simples)\n",
        "df.drop(['NOTIFICACAO_VINCULADA','ACAO_FISCALIZATORIA','DES_OUTROS_TIPO_AREA','OPERACAO_SOL_RECURSO'], axis = 1, inplace = True)"
      ],
      "execution_count": 0,
      "outputs": []
    },
    {
      "metadata": {
        "id": "nnLoei0Kl0OK",
        "colab_type": "code",
        "colab": {
          "base_uri": "https://localhost:8080/",
          "height": 474
        },
        "outputId": "858a9aa5-7a76-42d8-aa05-bb575264f093"
      },
      "cell_type": "code",
      "source": [
        "# verificando como está o df após o delete\n",
        "df.head()"
      ],
      "execution_count": 53,
      "outputs": [
        {
          "output_type": "execute_result",
          "data": {
            "text/html": [
              "<div>\n",
              "<style scoped>\n",
              "    .dataframe tbody tr th:only-of-type {\n",
              "        vertical-align: middle;\n",
              "    }\n",
              "\n",
              "    .dataframe tbody tr th {\n",
              "        vertical-align: top;\n",
              "    }\n",
              "\n",
              "    .dataframe thead th {\n",
              "        text-align: right;\n",
              "    }\n",
              "</style>\n",
              "<table border=\"1\" class=\"dataframe\">\n",
              "  <thead>\n",
              "    <tr style=\"text-align: right;\">\n",
              "      <th></th>\n",
              "      <th>SEQ_AUTO_INFRACAO</th>\n",
              "      <th>NUM_AUTO_INFRACAO</th>\n",
              "      <th>SER_AUTO_INFRACAO</th>\n",
              "      <th>TIPO_AUTO</th>\n",
              "      <th>TIPO_MULTA</th>\n",
              "      <th>VAL_AUTO_INFRACAO</th>\n",
              "      <th>PATRIMONIO_APURACAO</th>\n",
              "      <th>GRAVIDADE_INFRACAO</th>\n",
              "      <th>UNID_ARRECADACAO</th>\n",
              "      <th>DES_AUTO_INFRACAO</th>\n",
              "      <th>...</th>\n",
              "      <th>DES_LOCAL_INFRACAO</th>\n",
              "      <th>UNID_CONTROLE</th>\n",
              "      <th>TIPO_ACAO</th>\n",
              "      <th>OPERACAO</th>\n",
              "      <th>DENUNCIA_SISLIV</th>\n",
              "      <th>ORDEM_FISCALIZACAO</th>\n",
              "      <th>SOLICITACAO_RECURSO</th>\n",
              "      <th>DAT_LANCAMENTO</th>\n",
              "      <th>DAT_ULT_ALTERACAO</th>\n",
              "      <th>TIPO_ULT_ALTERACAO</th>\n",
              "    </tr>\n",
              "  </thead>\n",
              "  <tbody>\n",
              "    <tr>\n",
              "      <th>0</th>\n",
              "      <td>509</td>\n",
              "      <td>541249</td>\n",
              "      <td>D</td>\n",
              "      <td>Multa simples</td>\n",
              "      <td>Fechada</td>\n",
              "      <td>1500</td>\n",
              "      <td>NaN</td>\n",
              "      <td>NaN</td>\n",
              "      <td>BCG/GEREX</td>\n",
              "      <td>EXTRAIR MINERAIS (DIAMANTE) DO LEITO DO RIO AR...</td>\n",
              "      <td>...</td>\n",
              "      <td>NaN</td>\n",
              "      <td>BCG/GEREX</td>\n",
              "      <td>Rotina</td>\n",
              "      <td>NaN</td>\n",
              "      <td>NaN</td>\n",
              "      <td>NaN</td>\n",
              "      <td>NaN</td>\n",
              "      <td>17/10/2005 18:38:02</td>\n",
              "      <td>22/04/2013 23:32:56</td>\n",
              "      <td>Preenchido</td>\n",
              "    </tr>\n",
              "    <tr>\n",
              "      <th>1</th>\n",
              "      <td>514</td>\n",
              "      <td>541254</td>\n",
              "      <td>D</td>\n",
              "      <td>Multa simples</td>\n",
              "      <td>NaN</td>\n",
              "      <td>900</td>\n",
              "      <td>NaN</td>\n",
              "      <td>NaN</td>\n",
              "      <td>BCG/GEREX</td>\n",
              "      <td>TRANSPORTAR 20 KG DE PESCADO (PINTADO E TUCUNA...</td>\n",
              "      <td>...</td>\n",
              "      <td>NaN</td>\n",
              "      <td>NaN</td>\n",
              "      <td>NaN</td>\n",
              "      <td>NaN</td>\n",
              "      <td>NaN</td>\n",
              "      <td>NaN</td>\n",
              "      <td>NaN</td>\n",
              "      <td>17/10/2005 18:38:02</td>\n",
              "      <td>22/11/2006 18:25:08</td>\n",
              "      <td>Preenchido</td>\n",
              "    </tr>\n",
              "    <tr>\n",
              "      <th>2</th>\n",
              "      <td>522</td>\n",
              "      <td>541262</td>\n",
              "      <td>D</td>\n",
              "      <td>Multa simples</td>\n",
              "      <td>NaN</td>\n",
              "      <td>20845,9</td>\n",
              "      <td>NaN</td>\n",
              "      <td>NaN</td>\n",
              "      <td>BCG/GEREX</td>\n",
              "      <td>VENDER 208,459MÂ³ DE MADEIRA LAMINADA (AMESCLA...</td>\n",
              "      <td>...</td>\n",
              "      <td>NaN</td>\n",
              "      <td>NaN</td>\n",
              "      <td>NaN</td>\n",
              "      <td>NaN</td>\n",
              "      <td>NaN</td>\n",
              "      <td>NaN</td>\n",
              "      <td>NaN</td>\n",
              "      <td>17/10/2005 18:38:02</td>\n",
              "      <td>24/11/2006 10:15:48</td>\n",
              "      <td>Preenchido</td>\n",
              "    </tr>\n",
              "    <tr>\n",
              "      <th>3</th>\n",
              "      <td>523</td>\n",
              "      <td>541263</td>\n",
              "      <td>D</td>\n",
              "      <td>Multa simples</td>\n",
              "      <td>NaN</td>\n",
              "      <td>5510</td>\n",
              "      <td>NaN</td>\n",
              "      <td>NaN</td>\n",
              "      <td>BCG/GEREX</td>\n",
              "      <td>VENDER 55,100MÂ³ DE MADEIRA EM LAMINA, COM ATP...</td>\n",
              "      <td>...</td>\n",
              "      <td>NaN</td>\n",
              "      <td>NaN</td>\n",
              "      <td>NaN</td>\n",
              "      <td>NaN</td>\n",
              "      <td>NaN</td>\n",
              "      <td>NaN</td>\n",
              "      <td>NaN</td>\n",
              "      <td>17/10/2005 18:38:02</td>\n",
              "      <td>24/11/2006 09:28:51</td>\n",
              "      <td>Preenchido</td>\n",
              "    </tr>\n",
              "    <tr>\n",
              "      <th>4</th>\n",
              "      <td>533</td>\n",
              "      <td>541273</td>\n",
              "      <td>D</td>\n",
              "      <td>Multa simples</td>\n",
              "      <td>NaN</td>\n",
              "      <td>88700</td>\n",
              "      <td>NaN</td>\n",
              "      <td>NaN</td>\n",
              "      <td>BCG/GEREX</td>\n",
              "      <td>VENDER 887,000MDC DE CARVAO VEGETAL SEM ATPF, ...</td>\n",
              "      <td>...</td>\n",
              "      <td>NaN</td>\n",
              "      <td>NaN</td>\n",
              "      <td>NaN</td>\n",
              "      <td>NaN</td>\n",
              "      <td>NaN</td>\n",
              "      <td>NaN</td>\n",
              "      <td>NaN</td>\n",
              "      <td>17/10/2005 18:38:03</td>\n",
              "      <td>28/11/2006 10:50:48</td>\n",
              "      <td>Preenchido</td>\n",
              "    </tr>\n",
              "  </tbody>\n",
              "</table>\n",
              "<p>5 rows × 37 columns</p>\n",
              "</div>"
            ],
            "text/plain": [
              "   SEQ_AUTO_INFRACAO  NUM_AUTO_INFRACAO SER_AUTO_INFRACAO      TIPO_AUTO  \\\n",
              "0                509             541249                 D  Multa simples   \n",
              "1                514             541254                 D  Multa simples   \n",
              "2                522             541262                 D  Multa simples   \n",
              "3                523             541263                 D  Multa simples   \n",
              "4                533             541273                 D  Multa simples   \n",
              "\n",
              "  TIPO_MULTA VAL_AUTO_INFRACAO PATRIMONIO_APURACAO GRAVIDADE_INFRACAO  \\\n",
              "0    Fechada              1500                 NaN                NaN   \n",
              "1        NaN               900                 NaN                NaN   \n",
              "2        NaN           20845,9                 NaN                NaN   \n",
              "3        NaN              5510                 NaN                NaN   \n",
              "4        NaN             88700                 NaN                NaN   \n",
              "\n",
              "  UNID_ARRECADACAO                                  DES_AUTO_INFRACAO  \\\n",
              "0        BCG/GEREX  EXTRAIR MINERAIS (DIAMANTE) DO LEITO DO RIO AR...   \n",
              "1        BCG/GEREX  TRANSPORTAR 20 KG DE PESCADO (PINTADO E TUCUNA...   \n",
              "2        BCG/GEREX  VENDER 208,459MÂ³ DE MADEIRA LAMINADA (AMESCLA...   \n",
              "3        BCG/GEREX  VENDER 55,100MÂ³ DE MADEIRA EM LAMINA, COM ATP...   \n",
              "4        BCG/GEREX  VENDER 887,000MDC DE CARVAO VEGETAL SEM ATPF, ...   \n",
              "\n",
              "         ...         DES_LOCAL_INFRACAO UNID_CONTROLE TIPO_ACAO  OPERACAO  \\\n",
              "0        ...                        NaN     BCG/GEREX    Rotina       NaN   \n",
              "1        ...                        NaN           NaN       NaN       NaN   \n",
              "2        ...                        NaN           NaN       NaN       NaN   \n",
              "3        ...                        NaN           NaN       NaN       NaN   \n",
              "4        ...                        NaN           NaN       NaN       NaN   \n",
              "\n",
              "  DENUNCIA_SISLIV ORDEM_FISCALIZACAO SOLICITACAO_RECURSO       DAT_LANCAMENTO  \\\n",
              "0             NaN                NaN                 NaN  17/10/2005 18:38:02   \n",
              "1             NaN                NaN                 NaN  17/10/2005 18:38:02   \n",
              "2             NaN                NaN                 NaN  17/10/2005 18:38:02   \n",
              "3             NaN                NaN                 NaN  17/10/2005 18:38:02   \n",
              "4             NaN                NaN                 NaN  17/10/2005 18:38:03   \n",
              "\n",
              "     DAT_ULT_ALTERACAO TIPO_ULT_ALTERACAO  \n",
              "0  22/04/2013 23:32:56         Preenchido  \n",
              "1  22/11/2006 18:25:08         Preenchido  \n",
              "2  24/11/2006 10:15:48         Preenchido  \n",
              "3  24/11/2006 09:28:51         Preenchido  \n",
              "4  28/11/2006 10:50:48         Preenchido  \n",
              "\n",
              "[5 rows x 37 columns]"
            ]
          },
          "metadata": {
            "tags": []
          },
          "execution_count": 53
        }
      ]
    },
    {
      "metadata": {
        "id": "EWJAIqhghGD2",
        "colab_type": "text"
      },
      "cell_type": "markdown",
      "source": [
        "**TIPO_AUTO**"
      ]
    },
    {
      "metadata": {
        "id": "VcBbyUCp8Dg2",
        "colab_type": "code",
        "outputId": "c58cde42-22a9-462a-fe85-e8f98abec754",
        "colab": {
          "base_uri": "https://localhost:8080/",
          "height": 34
        }
      },
      "cell_type": "code",
      "source": [
        "# vamos analisar a informação TIPO_AUTO\n",
        "# levantando todos os valores unicos da mesma\n",
        "df['TIPO_AUTO'].unique()"
      ],
      "execution_count": 55,
      "outputs": [
        {
          "output_type": "execute_result",
          "data": {
            "text/plain": [
              "array(['Multa simples', 'Advertncia', 'Multa diria', '---'], dtype=object)"
            ]
          },
          "metadata": {
            "tags": []
          },
          "execution_count": 55
        }
      ]
    },
    {
      "metadata": {
        "id": "v1K9bndWryfz",
        "colab_type": "code",
        "colab": {}
      },
      "cell_type": "code",
      "source": [
        "# tratamento o conteúdo 'NaN' (valores ausentes), vamos adotar o '---' para os mesmos\n",
        "df['TIPO_AUTO'].fillna('---', inplace=True)"
      ],
      "execution_count": 0,
      "outputs": []
    },
    {
      "metadata": {
        "id": "zvYTD1ORfpK5",
        "colab_type": "code",
        "colab": {
          "base_uri": "https://localhost:8080/",
          "height": 102
        },
        "outputId": "1a696d21-4e80-4b29-8472-7d109412ac28"
      },
      "cell_type": "code",
      "source": [
        "# depois vamos agrupar por cada item encontrado logo acima\n",
        "# nota-se que o '---' possuí apenas 1 registro\n",
        "df['TIPO_AUTO'].value_counts()"
      ],
      "execution_count": 57,
      "outputs": [
        {
          "output_type": "execute_result",
          "data": {
            "text/plain": [
              "Multa simples    737003\n",
              "Advertncia        12091\n",
              "Multa diria         174\n",
              "---                   1\n",
              "Name: TIPO_AUTO, dtype: int64"
            ]
          },
          "metadata": {
            "tags": []
          },
          "execution_count": 57
        }
      ]
    },
    {
      "metadata": {
        "id": "1k6Q_THDjb-h",
        "colab_type": "text"
      },
      "cell_type": "markdown",
      "source": [
        "**TIPO MULTA**"
      ]
    },
    {
      "metadata": {
        "id": "7PYBuygNjmwg",
        "colab_type": "code",
        "colab": {
          "base_uri": "https://localhost:8080/",
          "height": 34
        },
        "outputId": "0553b97c-bb57-4100-f693-33454cbdecff"
      },
      "cell_type": "code",
      "source": [
        "# veremos agora sobre o TIPO_MULTA\n",
        "# levantando todos os valores unicos da mesma\n",
        "df['TIPO_MULTA'].unique()"
      ],
      "execution_count": 58,
      "outputs": [
        {
          "output_type": "execute_result",
          "data": {
            "text/plain": [
              "array(['Fechada', nan, 'Aberta'], dtype=object)"
            ]
          },
          "metadata": {
            "tags": []
          },
          "execution_count": 58
        }
      ]
    },
    {
      "metadata": {
        "id": "W6Zzn4oXsoxA",
        "colab_type": "code",
        "colab": {}
      },
      "cell_type": "code",
      "source": [
        "# tratamento o conteúdo 'NaN' (valores ausentes), vamos adotar o '---' para os mesmos\n",
        "df['TIPO_MULTA'].fillna('---', inplace=True)"
      ],
      "execution_count": 0,
      "outputs": []
    },
    {
      "metadata": {
        "id": "-nMKTnqNjyHZ",
        "colab_type": "code",
        "colab": {
          "base_uri": "https://localhost:8080/",
          "height": 85
        },
        "outputId": "b716a6d2-793d-47d3-8885-0be015990a20"
      },
      "cell_type": "code",
      "source": [
        "# bora agrupar\n",
        "# repara-se agora que há muitos registros sem TIPO_MULTA, estranho neh!\n",
        "df['TIPO_MULTA'].value_counts()"
      ],
      "execution_count": 60,
      "outputs": [
        {
          "output_type": "execute_result",
          "data": {
            "text/plain": [
              "---        673834\n",
              "Fechada     58862\n",
              "Aberta      16573\n",
              "Name: TIPO_MULTA, dtype: int64"
            ]
          },
          "metadata": {
            "tags": []
          },
          "execution_count": 60
        }
      ]
    },
    {
      "metadata": {
        "id": "r85Uvu_kjhwm",
        "colab_type": "code",
        "colab": {}
      },
      "cell_type": "code",
      "source": [
        ""
      ],
      "execution_count": 0,
      "outputs": []
    }
  ]
}